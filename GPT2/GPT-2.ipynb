{
 "cells": [
  {
   "cell_type": "code",
   "execution_count": 4,
   "metadata": {},
   "outputs": [
    {
     "name": "stderr",
     "output_type": "stream",
     "text": [
      "Token indices sequence length is longer than the specified maximum sequence length for this model (8492 > 1024). Running this sequence through the model will result in indexing errors\n"
     ]
    }
   ],
   "source": [
    "import faiss\n",
    "\n",
    "def prepare_faiss_index(model, tokenizer, file_path, device, batch_size=4):\n",
    "    # Cargar datos\n",
    "    with open(file_path, 'r', encoding='utf-8') as f:\n",
    "        text = f.read()\n",
    "\n",
    "    # Tokenizar el texto\n",
    "    tokenized_text = tokenizer.encode(text, return_tensors='pt').to(device)\n",
    "\n",
    "    # Crear el índice FAISS\n",
    "    d = model.config.n_embd  # Dimensión del embedding\n",
    "    index = faiss.IndexFlatL2(d)\n",
    "\n",
    "    # Generar embeddings y añadir al índice\n",
    "    with torch.no_grad():\n",
    "        for i in range(0, tokenized_text.size(1), batch_size):\n",
    "            inputs = tokenized_text[:, i:i + batch_size].to(device)\n",
    "            outputs = model.transformer(inputs).last_hidden_state.mean(dim=1).cpu().numpy()\n",
    "            index.add(outputs)\n",
    "\n",
    "    return index\n",
    "\n",
    "index = prepare_faiss_index(model, tokenizer, \"train_data.txt\", device)\n"
   ]
  },
  {
   "cell_type": "code",
   "execution_count": null,
   "metadata": {},
   "outputs": [],
   "source": []
  },
  {
   "cell_type": "code",
   "execution_count": 2,
   "metadata": {
    "scrolled": true
   },
   "outputs": [
    {
     "name": "stderr",
     "output_type": "stream",
     "text": [
      "/usr/local/lib/python3.11/dist-packages/transformers/optimization.py:591: FutureWarning: This implementation of AdamW is deprecated and will be removed in a future version. Use the PyTorch implementation torch.optim.AdamW instead, or set `no_deprecation_warning=True` to disable this warning\n",
      "  warnings.warn(\n"
     ]
    },
    {
     "name": "stdout",
     "output_type": "stream",
     "text": [
      "Epoch 1 completed, Average Loss: 4.0974261944110575\n",
      "Validation Loss: 3.714701771736145\n",
      "Epoch 1 completed, Average Loss: 3.547596582999596\n",
      "Validation Loss: 3.4991186261177063\n",
      "Epoch 1 completed, Average Loss: 3.2630369113041806\n",
      "Validation Loss: 3.3871349096298218\n",
      "Epoch 1 completed, Average Loss: 3.0413368298457217\n",
      "Validation Loss: 3.295798420906067\n",
      "Epoch 1 completed, Average Loss: 2.8610922189859243\n",
      "Validation Loss: 3.2620521187782288\n"
     ]
    }
   ],
   "source": [
    "import torch\n",
    "from torch.utils.data import Dataset, DataLoader, random_split\n",
    "from transformers import GPT2LMHeadModel, GPT2Tokenizer, AdamW\n",
    "from torch.optim.lr_scheduler import StepLR\n",
    "import json\n",
    "import numpy as np\n",
    "import time\n",
    "\n",
    "# Cargar y preparar datos\n",
    "def prepare_data():\n",
    "    with open('data.json', 'r', encoding='utf-8') as f:\n",
    "        faqs = json.load(f)\n",
    "    with open('train_data.txt', 'w', encoding='utf-8') as f:\n",
    "        for faq in faqs:\n",
    "            f.write(f\"Pregunta: {faq['pregunta']}\\nRespuesta: {faq['respuesta']}\\n\\n\")\n",
    "\n",
    "prepare_data()\n",
    "\n",
    "# Dataset personalizado\n",
    "class TextDataset(Dataset):\n",
    "    def __init__(self, file_path, tokenizer, block_size=128):\n",
    "        self.examples = []\n",
    "        with open(file_path, encoding='utf-8') as f:\n",
    "            text = f.read()\n",
    "        tokenized_text = tokenizer.convert_tokens_to_ids(tokenizer.tokenize(text))\n",
    "        for i in range(0, len(tokenized_text) - block_size + 1, block_size):\n",
    "            self.examples.append(tokenizer.build_inputs_with_special_tokens(tokenized_text[i:i + block_size]))\n",
    "    def __len__(self):\n",
    "        return len(self.examples)\n",
    "    def __getitem__(self, item):\n",
    "        return torch.tensor(self.examples[item])\n",
    "\n",
    "# Inicialización de componentes del modelo\n",
    "device = torch.device(\"cuda\" if torch.cuda.is_available() else \"cpu\")\n",
    "tokenizer = GPT2Tokenizer.from_pretrained(\"gpt2\")\n",
    "model = GPT2LMHeadModel.from_pretrained(\"gpt2\").to(device)\n",
    "dataset = TextDataset(\"train_data.txt\", tokenizer)\n",
    "train_size = int(0.8 * len(dataset))\n",
    "val_size = len(dataset) - train_size\n",
    "train_dataset, val_dataset = random_split(dataset, [train_size, val_size])\n",
    "train_dataloader = DataLoader(train_dataset, batch_size=4, shuffle=True)\n",
    "val_dataloader = DataLoader(val_dataset, batch_size=4)\n",
    "\n",
    "# Optimizador y scheduler\n",
    "optimizer = AdamW(model.parameters(), lr=3e-5)\n",
    "scheduler = StepLR(optimizer, step_size=10, gamma=0.5)\n",
    "\n",
    "# Funciones de entrenamiento y evaluación\n",
    "def train(model, dataloader, optimizer, device, num_epochs=1):\n",
    "    model.train()\n",
    "    total_loss = 0\n",
    "    for epoch in range(num_epochs):\n",
    "        for batch in dataloader:\n",
    "            inputs, labels = batch.to(device), batch.to(device)\n",
    "            optimizer.zero_grad()\n",
    "            outputs = model(inputs, labels=labels)\n",
    "            loss = outputs.loss\n",
    "            loss.backward()\n",
    "            optimizer.step()\n",
    "            total_loss += loss.item()\n",
    "        scheduler.step()\n",
    "        print(f\"Epoch {epoch+1} completed, Average Loss: {total_loss / len(dataloader)}\")\n",
    "\n",
    "def evaluate(model, dataloader, device):\n",
    "    model.eval()\n",
    "    total_loss = 0\n",
    "    with torch.no_grad():\n",
    "        for batch in dataloader:\n",
    "            inputs, labels = batch.to(device), batch.to(device)\n",
    "            outputs = model(inputs, labels=labels)\n",
    "            total_loss += outputs.loss.item()\n",
    "    print(f\"Validation Loss: {total_loss / len(dataloader)}\")\n",
    "    return total_loss / len(dataloader)\n",
    "\n",
    "# Ejecutar entrenamiento y evaluación\n",
    "for epoch in range(5):  # Aumentar según sea necesario\n",
    "    train(model, train_dataloader, optimizer, device)\n",
    "    val_loss = evaluate(model, val_dataloader, device)\n",
    "\n",
    "def generate_response(question, model, tokenizer, max_length=100, device='cuda'):\n",
    "    model.eval()\n",
    "    with torch.no_grad():\n",
    "        inputs = tokenizer.encode(question, return_tensors='pt').to(device)\n",
    "        outputs = model.generate(\n",
    "            inputs,\n",
    "            max_length=max_length,\n",
    "            num_return_sequences=1,\n",
    "            no_repeat_ngram_size=2,\n",
    "            top_k=50,\n",
    "            top_p=0.95,\n",
    "            temperature=0.7\n",
    "        )\n",
    "    response = tokenizer.decode(outputs[0], skip_special_tokens=True)\n",
    "    return response\n"
   ]
  },
  {
   "cell_type": "code",
   "execution_count": 10,
   "metadata": {},
   "outputs": [
    {
     "name": "stderr",
     "output_type": "stream",
     "text": [
      "The attention mask and the pad token id were not set. As a consequence, you may observe unexpected behavior. Please pass your input's `attention_mask` to obtain reliable results.\n",
      "Setting `pad_token_id` to `eos_token_id`:50256 for open-end generation.\n"
     ]
    },
    {
     "name": "stdout",
     "output_type": "stream",
     "text": [
      "Donde queda la espe incañol de la vida de los más.\n",
      "\n",
      "\"I'm sorry, but I'm not going to be able to go to the hospital. I don't want to see you. You're not here to help me. It's not my fault. If you want me to, I'll go and see the doctor. But I can't go. My body is broken. And I want you to come with me.\"\n",
      "..\n"
     ]
    }
   ],
   "source": [
    "# Ejemplo de uso\n",
    "question = \"Donde queda la espe inca\"\n",
    "response = generate_response(question, model, tokenizer, device=device)\n",
    "print(response)\n"
   ]
  }
 ],
 "metadata": {
  "kernelspec": {
   "display_name": "Python 3 (ipykernel)",
   "language": "python",
   "name": "python3"
  },
  "language_info": {
   "codemirror_mode": {
    "name": "ipython",
    "version": 3
   },
   "file_extension": ".py",
   "mimetype": "text/x-python",
   "name": "python",
   "nbconvert_exporter": "python",
   "pygments_lexer": "ipython3",
   "version": "3.11.0rc1"
  }
 },
 "nbformat": 4,
 "nbformat_minor": 4
}
